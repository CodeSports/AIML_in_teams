{
 "cells": [
  {
   "cell_type": "markdown",
   "metadata": {},
   "source": [
    "## It’s time to Welcome A.I. and Machine Learning into our Agile/Scrum teams and Ways of Working\n",
    "\n",
    "### DEMO - 1: Story Point Calculation for Upcoming Sprint\n",
    "\n",
    "<br/><br/><br/>\n",
    "___A DEMO of calculating Story Points with Machine Learning___"
   ]
  },
  {
   "cell_type": "markdown",
   "metadata": {},
   "source": [
    "<br/><br/><br/><br/>"
   ]
  },
  {
   "cell_type": "code",
   "execution_count": 73,
   "metadata": {},
   "outputs": [],
   "source": [
    "import matplotlib.pyplot as plt\n",
    "import numpy as np\n",
    "import pandas as pd\n",
    "from sklearn.neighbors import KNeighborsClassifier"
   ]
  },
  {
   "cell_type": "markdown",
   "metadata": {},
   "source": [
    "<br/><br/>\n",
    "\n",
    "### Let's read the DATA from the CSV file\n",
    "\n",
    "<br/><br/>"
   ]
  },
  {
   "cell_type": "code",
   "execution_count": 74,
   "metadata": {},
   "outputs": [],
   "source": [
    "df = pd.read_csv(\"team_sp_details.csv\")"
   ]
  },
  {
   "cell_type": "code",
   "execution_count": 75,
   "metadata": {},
   "outputs": [
    {
     "data": {
      "text/html": [
       "<div>\n",
       "<style scoped>\n",
       "    .dataframe tbody tr th:only-of-type {\n",
       "        vertical-align: middle;\n",
       "    }\n",
       "\n",
       "    .dataframe tbody tr th {\n",
       "        vertical-align: top;\n",
       "    }\n",
       "\n",
       "    .dataframe thead th {\n",
       "        text-align: right;\n",
       "    }\n",
       "</style>\n",
       "<table border=\"1\" class=\"dataframe\">\n",
       "  <thead>\n",
       "    <tr style=\"text-align: right;\">\n",
       "      <th></th>\n",
       "      <th>Strength</th>\n",
       "      <th>Leave</th>\n",
       "      <th>Component</th>\n",
       "      <th>LOrR</th>\n",
       "      <th>Story_Points</th>\n",
       "    </tr>\n",
       "  </thead>\n",
       "  <tbody>\n",
       "    <tr>\n",
       "      <th>0</th>\n",
       "      <td>5.0</td>\n",
       "      <td>0.5</td>\n",
       "      <td>A</td>\n",
       "      <td>Local</td>\n",
       "      <td>55.0</td>\n",
       "    </tr>\n",
       "    <tr>\n",
       "      <th>1</th>\n",
       "      <td>6.0</td>\n",
       "      <td>1.0</td>\n",
       "      <td>A</td>\n",
       "      <td>Remote</td>\n",
       "      <td>45.0</td>\n",
       "    </tr>\n",
       "    <tr>\n",
       "      <th>2</th>\n",
       "      <td>4.0</td>\n",
       "      <td>0.5</td>\n",
       "      <td>B</td>\n",
       "      <td>Local</td>\n",
       "      <td>75.0</td>\n",
       "    </tr>\n",
       "    <tr>\n",
       "      <th>3</th>\n",
       "      <td>7.0</td>\n",
       "      <td>2.5</td>\n",
       "      <td>C</td>\n",
       "      <td>Local</td>\n",
       "      <td>35.0</td>\n",
       "    </tr>\n",
       "    <tr>\n",
       "      <th>4</th>\n",
       "      <td>9.0</td>\n",
       "      <td>0.5</td>\n",
       "      <td>B</td>\n",
       "      <td>Remote</td>\n",
       "      <td>50.0</td>\n",
       "    </tr>\n",
       "    <tr>\n",
       "      <th>5</th>\n",
       "      <td>6.0</td>\n",
       "      <td>2.0</td>\n",
       "      <td>A</td>\n",
       "      <td>Remote</td>\n",
       "      <td>40.0</td>\n",
       "    </tr>\n",
       "    <tr>\n",
       "      <th>6</th>\n",
       "      <td>7.0</td>\n",
       "      <td>1.0</td>\n",
       "      <td>B</td>\n",
       "      <td>Remote</td>\n",
       "      <td>45.0</td>\n",
       "    </tr>\n",
       "    <tr>\n",
       "      <th>7</th>\n",
       "      <td>5.0</td>\n",
       "      <td>1.5</td>\n",
       "      <td>B</td>\n",
       "      <td>Local</td>\n",
       "      <td>50.0</td>\n",
       "    </tr>\n",
       "    <tr>\n",
       "      <th>8</th>\n",
       "      <td>7.0</td>\n",
       "      <td>3.0</td>\n",
       "      <td>C</td>\n",
       "      <td>Remote</td>\n",
       "      <td>30.0</td>\n",
       "    </tr>\n",
       "    <tr>\n",
       "      <th>9</th>\n",
       "      <td>6.0</td>\n",
       "      <td>2.5</td>\n",
       "      <td>C</td>\n",
       "      <td>Local</td>\n",
       "      <td>50.0</td>\n",
       "    </tr>\n",
       "    <tr>\n",
       "      <th>10</th>\n",
       "      <td>5.0</td>\n",
       "      <td>0.5</td>\n",
       "      <td>C</td>\n",
       "      <td>Local</td>\n",
       "      <td>60.0</td>\n",
       "    </tr>\n",
       "    <tr>\n",
       "      <th>11</th>\n",
       "      <td>7.0</td>\n",
       "      <td>1.0</td>\n",
       "      <td>C</td>\n",
       "      <td>Remote</td>\n",
       "      <td>55.0</td>\n",
       "    </tr>\n",
       "    <tr>\n",
       "      <th>12</th>\n",
       "      <td>6.0</td>\n",
       "      <td>1.0</td>\n",
       "      <td>A</td>\n",
       "      <td>Remote</td>\n",
       "      <td>45.0</td>\n",
       "    </tr>\n",
       "    <tr>\n",
       "      <th>13</th>\n",
       "      <td>7.0</td>\n",
       "      <td>1.5</td>\n",
       "      <td>C</td>\n",
       "      <td>Remote</td>\n",
       "      <td>40.0</td>\n",
       "    </tr>\n",
       "    <tr>\n",
       "      <th>14</th>\n",
       "      <td>6.0</td>\n",
       "      <td>2.0</td>\n",
       "      <td>B</td>\n",
       "      <td>Local</td>\n",
       "      <td>55.0</td>\n",
       "    </tr>\n",
       "    <tr>\n",
       "      <th>15</th>\n",
       "      <td>8.0</td>\n",
       "      <td>1.5</td>\n",
       "      <td>C</td>\n",
       "      <td>Local</td>\n",
       "      <td>60.0</td>\n",
       "    </tr>\n",
       "    <tr>\n",
       "      <th>16</th>\n",
       "      <td>6.0</td>\n",
       "      <td>0.5</td>\n",
       "      <td>D</td>\n",
       "      <td>Local</td>\n",
       "      <td>70.0</td>\n",
       "    </tr>\n",
       "    <tr>\n",
       "      <th>17</th>\n",
       "      <td>7.0</td>\n",
       "      <td>0.0</td>\n",
       "      <td>A</td>\n",
       "      <td>Local</td>\n",
       "      <td>70.0</td>\n",
       "    </tr>\n",
       "    <tr>\n",
       "      <th>18</th>\n",
       "      <td>5.0</td>\n",
       "      <td>0.5</td>\n",
       "      <td>B</td>\n",
       "      <td>Remote</td>\n",
       "      <td>60.0</td>\n",
       "    </tr>\n",
       "    <tr>\n",
       "      <th>19</th>\n",
       "      <td>NaN</td>\n",
       "      <td>NaN</td>\n",
       "      <td>NaN</td>\n",
       "      <td>NaN</td>\n",
       "      <td>NaN</td>\n",
       "    </tr>\n",
       "    <tr>\n",
       "      <th>20</th>\n",
       "      <td>NaN</td>\n",
       "      <td>NaN</td>\n",
       "      <td>NaN</td>\n",
       "      <td>NaN</td>\n",
       "      <td>NaN</td>\n",
       "    </tr>\n",
       "  </tbody>\n",
       "</table>\n",
       "</div>"
      ],
      "text/plain": [
       "    Strength  Leave Component    LOrR  Story_Points\n",
       "0        5.0    0.5         A   Local          55.0\n",
       "1        6.0    1.0         A  Remote          45.0\n",
       "2        4.0    0.5         B   Local          75.0\n",
       "3        7.0    2.5         C   Local          35.0\n",
       "4        9.0    0.5         B  Remote          50.0\n",
       "5        6.0    2.0         A  Remote          40.0\n",
       "6        7.0    1.0         B  Remote          45.0\n",
       "7        5.0    1.5         B   Local          50.0\n",
       "8        7.0    3.0         C  Remote          30.0\n",
       "9        6.0    2.5         C   Local          50.0\n",
       "10       5.0    0.5         C   Local          60.0\n",
       "11       7.0    1.0         C  Remote          55.0\n",
       "12       6.0    1.0         A  Remote          45.0\n",
       "13       7.0    1.5         C  Remote          40.0\n",
       "14       6.0    2.0         B   Local          55.0\n",
       "15       8.0    1.5         C   Local          60.0\n",
       "16       6.0    0.5         D   Local          70.0\n",
       "17       7.0    0.0         A   Local          70.0\n",
       "18       5.0    0.5         B  Remote          60.0\n",
       "19       NaN    NaN       NaN     NaN           NaN\n",
       "20       NaN    NaN       NaN     NaN           NaN"
      ]
     },
     "execution_count": 75,
     "metadata": {},
     "output_type": "execute_result"
    }
   ],
   "source": [
    "df"
   ]
  },
  {
   "cell_type": "markdown",
   "metadata": {},
   "source": [
    "<br/><br/><br/>\n",
    "\n",
    "### Prepare the Data to be fed into Machine Learning Algorithm\n",
    "<br/><br/><br/>"
   ]
  },
  {
   "cell_type": "code",
   "execution_count": 76,
   "metadata": {},
   "outputs": [],
   "source": [
    "features= np.zeros((19,4))"
   ]
  },
  {
   "cell_type": "code",
   "execution_count": 77,
   "metadata": {},
   "outputs": [],
   "source": [
    "column_num = 0\n",
    "rows = 0\n",
    "for values in df.iloc[0:19,0:1].values:\n",
    "    features[rows][column_num] = values\n",
    "    rows += 1\n",
    "\n",
    "column_num = 1\n",
    "rows = 0\n",
    "for values in df.iloc[0:19,1:2].values:\n",
    "    features[rows][column_num] = values\n",
    "    rows += 1\n",
    "\n",
    "column_num = 2\n",
    "rows = 0\n",
    "for values in df.iloc[0:19,2:3].values:\n",
    "    if values == 'A':\n",
    "        values = 0\n",
    "    elif values == 'B':\n",
    "        values = 1\n",
    "    elif values == 'C':\n",
    "        values = 2\n",
    "    else:\n",
    "        values = -1\n",
    "    features[rows][column_num] = values\n",
    "    rows += 1\n",
    "\n",
    "\n",
    "column_num = 3\n",
    "rows = 0\n",
    "for values in df.iloc[0:19,3:4].values:\n",
    "    if values == 'Local':\n",
    "        values = 0\n",
    "    elif values == 'Remote':\n",
    "        values = 1\n",
    "    else:\n",
    "        values = -1\n",
    "    features[rows][column_num] = values\n",
    "    rows += 1\n",
    "\n",
    "\n",
    "\n",
    "    \n",
    "#features"
   ]
  },
  {
   "cell_type": "code",
   "execution_count": 78,
   "metadata": {},
   "outputs": [
    {
     "data": {
      "text/plain": [
       "numpy.ndarray"
      ]
     },
     "execution_count": 78,
     "metadata": {},
     "output_type": "execute_result"
    }
   ],
   "source": [
    "#features = df.iloc[0:19,0:2].values\n",
    "labels = df.iloc[0:19,4].values\n",
    "type(labels)"
   ]
  },
  {
   "cell_type": "code",
   "execution_count": 79,
   "metadata": {},
   "outputs": [
    {
     "data": {
      "text/plain": [
       "(array([[ 5. ,  0.5,  0. ,  0. ],\n",
       "        [ 6. ,  1. ,  0. ,  1. ],\n",
       "        [ 4. ,  0.5,  1. ,  0. ],\n",
       "        [ 7. ,  2.5,  2. ,  0. ],\n",
       "        [ 9. ,  0.5,  1. ,  1. ],\n",
       "        [ 6. ,  2. ,  0. ,  1. ],\n",
       "        [ 7. ,  1. ,  1. ,  1. ],\n",
       "        [ 5. ,  1.5,  1. ,  0. ],\n",
       "        [ 7. ,  3. ,  2. ,  1. ],\n",
       "        [ 6. ,  2.5,  2. ,  0. ],\n",
       "        [ 5. ,  0.5,  2. ,  0. ],\n",
       "        [ 7. ,  1. ,  2. ,  1. ],\n",
       "        [ 6. ,  1. ,  0. ,  1. ],\n",
       "        [ 7. ,  1.5,  2. ,  1. ],\n",
       "        [ 6. ,  2. ,  1. ,  0. ],\n",
       "        [ 8. ,  1.5,  2. ,  0. ],\n",
       "        [ 6. ,  0.5, -1. ,  0. ],\n",
       "        [ 7. ,  0. ,  0. ,  0. ],\n",
       "        [ 5. ,  0.5,  1. ,  1. ]]),\n",
       " array([55., 45., 75., 35., 50., 40., 45., 50., 30., 50., 60., 55., 45.,\n",
       "        40., 55., 60., 70., 70., 60.]))"
      ]
     },
     "execution_count": 79,
     "metadata": {},
     "output_type": "execute_result"
    }
   ],
   "source": [
    "features, labels"
   ]
  },
  {
   "cell_type": "code",
   "execution_count": 80,
   "metadata": {},
   "outputs": [
    {
     "data": {
      "text/plain": [
       "(dtype('float64'), dtype('float64'))"
      ]
     },
     "execution_count": 80,
     "metadata": {},
     "output_type": "execute_result"
    }
   ],
   "source": [
    "labels.dtype, features.dtype"
   ]
  },
  {
   "cell_type": "markdown",
   "metadata": {},
   "source": [
    "<br/><br/><br/><br/>\n",
    "\n",
    "### Apply the data in Machine Learning Algorithm\n",
    "\n",
    "\n",
    "<br/><br/>\n",
    "\n",
    "___In here we'll be using K Nearest Neighbour M.L. Algorithm___\n",
    "\n",
    "<br/><br/>"
   ]
  },
  {
   "cell_type": "markdown",
   "metadata": {},
   "source": [
    "<br/><br/>\n",
    "\n",
    "___Train the M.L. Algorithm with the available DATA___\n",
    "<br/><br/>"
   ]
  },
  {
   "cell_type": "code",
   "execution_count": 81,
   "metadata": {},
   "outputs": [],
   "source": [
    "knn = KNeighborsClassifier(n_neighbors=1)"
   ]
  },
  {
   "cell_type": "code",
   "execution_count": 82,
   "metadata": {},
   "outputs": [
    {
     "data": {
      "text/plain": [
       "KNeighborsClassifier(algorithm='auto', leaf_size=30, metric='minkowski',\n",
       "           metric_params=None, n_jobs=None, n_neighbors=1, p=2,\n",
       "           weights='uniform')"
      ]
     },
     "execution_count": 82,
     "metadata": {},
     "output_type": "execute_result"
    }
   ],
   "source": [
    "knn.fit(features, labels)"
   ]
  },
  {
   "cell_type": "markdown",
   "metadata": {},
   "source": [
    "<br/><br/><br/><br/>\n",
    "\n",
    "___Now the training is done and My Machine Learning Model is READY TO MAKE PREDICTIONS___\n",
    "\n",
    "<br/><br/><br/><br/>"
   ]
  },
  {
   "cell_type": "markdown",
   "metadata": {},
   "source": [
    "___INPUT___\n",
    "\n",
    "- Team Strength\n",
    "- Leaves\n",
    "- Component\n",
    "- Local Or Remote\n",
    "\n",
    "<br/><br/><br/><br/>"
   ]
  },
  {
   "cell_type": "code",
   "execution_count": 89,
   "metadata": {},
   "outputs": [],
   "source": [
    "Team_strength = 7\n",
    "Leaves = 2.0\n",
    "Component = 1\n",
    "LocalOrRemote = 0\n",
    "\n",
    "query = np.array([Team_strength, Leaves, Component, LocalOrRemote])"
   ]
  },
  {
   "cell_type": "markdown",
   "metadata": {},
   "source": [
    "<br/><br/>\n",
    "\n",
    "___Let's see what our M.L. Algorithm Predicts for the given Data___\n",
    "<br/><br/>"
   ]
  },
  {
   "cell_type": "code",
   "execution_count": 90,
   "metadata": {},
   "outputs": [
    {
     "data": {
      "text/plain": [
       "array([55.])"
      ]
     },
     "execution_count": 90,
     "metadata": {},
     "output_type": "execute_result"
    }
   ],
   "source": [
    "knn.predict([query])"
   ]
  },
  {
   "cell_type": "markdown",
   "metadata": {},
   "source": [
    "<br/><br/><br/><br/><br/><br/><br/><br/><br/><br/>"
   ]
  },
  {
   "cell_type": "markdown",
   "metadata": {},
   "source": [
    "<br/><br/><br/><br/><br/><br/>"
   ]
  },
  {
   "cell_type": "markdown",
   "metadata": {},
   "source": [
    "<br/><br/><br/><br/>"
   ]
  },
  {
   "cell_type": "markdown",
   "metadata": {},
   "source": [
    "### Algorithm Selection \n",
    "\n",
    "___Machine Learning is all about Data Engineering and Algorithm Selection___"
   ]
  },
  {
   "cell_type": "markdown",
   "metadata": {},
   "source": [
    "<br/><br/><br/><br/>"
   ]
  },
  {
   "cell_type": "markdown",
   "metadata": {},
   "source": [
    "___For the above data, we can use another form of Supervised Learning Model called \"Regression\"___\n",
    "\n",
    "<br/><br/>\n",
    "\n",
    "___Difference => It will provide contineous values rather than the values provided with the Training Data___\n",
    "\n",
    "<br/><br/><br/><br/>"
   ]
  },
  {
   "cell_type": "code",
   "execution_count": null,
   "metadata": {},
   "outputs": [],
   "source": [
    "from sklearn.linear_model import LinearRegression\n",
    "lr = LinearRegression()"
   ]
  },
  {
   "cell_type": "code",
   "execution_count": null,
   "metadata": {},
   "outputs": [],
   "source": [
    "lr.fit(features, labels)"
   ]
  },
  {
   "cell_type": "markdown",
   "metadata": {},
   "source": [
    "<br/><br/><br/><br/>\n",
    "\n",
    "___Let's query the same data using the new M.L. model which was trainind with same Data Set___\n",
    "\n",
    "<br/><br/><br/><br/>"
   ]
  },
  {
   "cell_type": "code",
   "execution_count": null,
   "metadata": {},
   "outputs": [],
   "source": [
    "Team_strength = 7\n",
    "Leaves = 1.5\n",
    "Component = 2\n",
    "LocalOrRemote = 1\n",
    "\n",
    "query = np.array([Team_strength, Leaves, Component, LocalOrRemote])"
   ]
  },
  {
   "cell_type": "code",
   "execution_count": null,
   "metadata": {},
   "outputs": [],
   "source": [
    "lr.predict([query])"
   ]
  },
  {
   "cell_type": "code",
   "execution_count": null,
   "metadata": {},
   "outputs": [],
   "source": []
  }
 ],
 "metadata": {
  "kernelspec": {
   "display_name": "Python 3",
   "language": "python",
   "name": "python3"
  },
  "language_info": {
   "codemirror_mode": {
    "name": "ipython",
    "version": 3
   },
   "file_extension": ".py",
   "mimetype": "text/x-python",
   "name": "python",
   "nbconvert_exporter": "python",
   "pygments_lexer": "ipython3",
   "version": "3.7.1"
  }
 },
 "nbformat": 4,
 "nbformat_minor": 2
}
